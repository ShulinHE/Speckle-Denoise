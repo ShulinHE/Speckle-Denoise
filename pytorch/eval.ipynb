{
 "cells": [
  {
   "cell_type": "code",
   "execution_count": null,
   "metadata": {
    "ExecuteTime": {
     "end_time": "2020-06-03T14:54:01.757258Z",
     "start_time": "2020-06-03T14:53:56.223999Z"
    }
   },
   "outputs": [],
   "source": [
    "import numpy as np\n",
    "import matplotlib.pyplot as plt\n",
    "import datetime\n",
    "from sklearn.model_selection import train_test_split\n",
    "from tqdm import notebook, tqdm\n",
    "\n",
    "import torch\n",
    "import torch.nn as nn\n",
    "import numpy as np\n",
    "import torch.nn.functional as F\n",
    "from torchsummary import summary\n",
    "import torchvision.models as models\n",
    "from torch.optim import lr_scheduler\n",
    "\n",
    "#from model_kpn import KPN, LossBasic\n",
    "#from model_baseline import Unet\n",
    "from model_gdfn import GDFN\n",
    "\n",
    "from data import ims, ims_noise"
   ]
  },
  {
   "cell_type": "code",
   "execution_count": null,
   "metadata": {
    "ExecuteTime": {
     "end_time": "2020-06-03T14:54:01.925802Z",
     "start_time": "2020-06-03T14:54:01.758241Z"
    }
   },
   "outputs": [],
   "source": [
    "device = torch.device('cuda' if torch.cuda.is_available() else 'cpu')\n",
    "device"
   ]
  },
  {
   "cell_type": "markdown",
   "metadata": {},
   "source": [
    "# préparation des données"
   ]
  },
  {
   "cell_type": "code",
   "execution_count": null,
   "metadata": {
    "ExecuteTime": {
     "end_time": "2020-06-03T14:54:01.934771Z",
     "start_time": "2020-06-03T14:54:01.928786Z"
    }
   },
   "outputs": [],
   "source": [
    "batch_size = 16"
   ]
  },
  {
   "cell_type": "code",
   "execution_count": null,
   "metadata": {
    "ExecuteTime": {
     "end_time": "2020-06-03T14:54:04.586380Z",
     "start_time": "2020-06-03T14:54:04.422818Z"
    }
   },
   "outputs": [],
   "source": [
    "N_ims, h, w, color = ims.shape\n",
    "ims = ims[:N_ims].astype(np.float32).transpose(0,3,1,2)\n",
    "ims_noise = ims_noise[:N_ims].astype(np.float32).transpose(0,3,1,2)"
   ]
  },
  {
   "cell_type": "code",
   "execution_count": null,
   "metadata": {
    "ExecuteTime": {
     "end_time": "2020-06-03T14:54:05.369537Z",
     "start_time": "2020-06-03T14:54:05.165085Z"
    }
   },
   "outputs": [],
   "source": [
    "# train test split\n",
    "test_size = 0.1\n",
    "\n",
    "train_X, train_Y = ims_noise, ims\n",
    "train_X, test_X, train_Y, test_Y = train_test_split(train_X, train_Y, test_size=test_size, random_state=42)\n",
    "\n",
    "#train_X = train_X[:,np.newaxis,...]\n",
    "#test_X = test_X[:,np.newaxis,...]\n",
    "\n",
    "print('Training X: ', train_X.shape, train_X.dtype, train_X.max(), train_X.min())\n",
    "print('Training Y: ', train_Y.shape, train_Y.dtype, train_Y.max(), train_Y.min())\n",
    "print('Testing X: ', test_X.shape, test_X.dtype, test_X.max(), test_X.min())\n",
    "print('Testing Y: ', test_Y.shape, test_Y.dtype, test_Y.max(), test_Y.min())"
   ]
  },
  {
   "cell_type": "code",
   "execution_count": null,
   "metadata": {
    "ExecuteTime": {
     "end_time": "2020-06-03T14:54:06.052069Z",
     "start_time": "2020-06-03T14:54:06.044090Z"
    }
   },
   "outputs": [],
   "source": [
    "class MyDataset(torch.utils.data.Dataset):\n",
    "    def __init__(self, X, Y):\n",
    "        self.X = X\n",
    "        self.Y = Y\n",
    "        \n",
    "    def __getitem__(self, index):      #这个方法是必须要有的，用于按照索引读取每个元素的具体内容\n",
    "        return self.X[index], self.Y[index]\n",
    "    \n",
    "    def __len__(self):                 #这个函数也必须要写，它返回的是数据集的长度，也就是多少张图片，要和loader的长度作区分\n",
    "        return len(self.X)\n",
    "        \n",
    "train_set = MyDataset(train_X, train_Y)\n",
    "test_set = MyDataset(test_X, test_Y)\n",
    "\n",
    "def collate(batch): \n",
    "    inputs = torch.FloatTensor([item[0] for item in batch])\n",
    "    target = torch.FloatTensor([item[1] for item in batch])\n",
    "    return inputs, target\n",
    "\n",
    "train_loader = torch.utils.data.DataLoader(train_set, batch_size=batch_size, shuffle=True, collate_fn=collate)\n",
    "test_loader = torch.utils.data.DataLoader(test_set, batch_size=batch_size, shuffle=False, collate_fn=collate)"
   ]
  },
  {
   "cell_type": "code",
   "execution_count": null,
   "metadata": {},
   "outputs": [],
   "source": [
    "'''please choose the model from 'kpn', 'unet' and 'gdfn' '''\n",
    "choice = 'gdfn'\n",
    "\n",
    "if choice == 'kpn':\n",
    "    model = KPN(color=False, burst_length=1, blind_est=True, kernel_size=[3], sep_conv=False, \n",
    "                     channel_att=False, spatial_att=True, core_bias=False).to(device)\n",
    "    mode = 1\n",
    "elif choice == 'unet':\n",
    "    model = Unet(color=False, blind_est=True, channel_att=False, spatial_att=False, core_bias=False).to(device)\n",
    "    mode = 2\n",
    "elif choice == 'gdfn':\n",
    "    model = GDFN(filter_size = (3,3), color=False, blind_est=True, channel_att=False, spatial_att=False, core_bias=False).to(device)\n",
    "    mode = 2\n",
    "else:\n",
    "    assert\n",
    "    \n",
    "print('# model parameters:', sum(param.numel() for param in model.parameters()))"
   ]
  },
  {
   "cell_type": "code",
   "execution_count": null,
   "metadata": {
    "ExecuteTime": {
     "end_time": "2020-06-03T14:54:58.501310Z",
     "start_time": "2020-06-03T14:54:58.352707Z"
    }
   },
   "outputs": [],
   "source": [
    "if_load = False\n",
    "if if_load:\n",
    "    model.load_state_dict(torch.load(r'./model_weights/gdfn.pkl'))\n",
    "    #model.eval()"
   ]
  },
  {
   "cell_type": "markdown",
   "metadata": {},
   "source": [
    "# analyse des filtres dynamiques"
   ]
  },
  {
   "cell_type": "code",
   "execution_count": null,
   "metadata": {
    "ExecuteTime": {
     "end_time": "2020-06-03T14:55:07.468626Z",
     "start_time": "2020-06-03T14:55:07.463640Z"
    }
   },
   "outputs": [],
   "source": [
    "color = 1 if color == False else 3\n",
    "\n",
    "current_time = datetime.datetime.now().strftime(\"%Y%m%d-%H%M%S\")"
   ]
  },
  {
   "cell_type": "code",
   "execution_count": null,
   "metadata": {
    "ExecuteTime": {
     "end_time": "2020-06-03T14:55:11.380711Z",
     "start_time": "2020-06-03T14:55:09.743091Z"
    }
   },
   "outputs": [],
   "source": [
    "model.eval()\n",
    "test_X, test_Y = next(iter(test_loader))\n",
    "test_X, test_Y = test_X.to(device), test_Y.to(device)\n",
    "if mode == 1:\n",
    "    pred_Y,core = model(test_X, test_X)\n",
    "elif mode == 2:\n",
    "    pred_Y, core = model(test_X)\n",
    "else:\n",
    "    assert\n",
    "\n",
    "print(core.shape)"
   ]
  },
  {
   "cell_type": "markdown",
   "metadata": {},
   "source": [
    "## gdfn"
   ]
  },
  {
   "cell_type": "code",
   "execution_count": null,
   "metadata": {
    "ExecuteTime": {
     "end_time": "2020-06-03T14:56:28.939348Z",
     "start_time": "2020-06-03T14:56:28.768786Z"
    }
   },
   "outputs": [],
   "source": [
    "plt.figure(figsize = (15,5*num_filters))\n",
    "for i in range(num_filters):\n",
    "    cur_core = core[:,i*color**2:(i+1)*color**2,:,:]\n",
    "    cur_core = cur_core.mean(axis=0)\n",
    "    \n",
    "    plt.subplot(num_filters,1,i+1)\n",
    "    plt.imshow(cur_core.detach().cpu().squeeze(), cmap='gray')\n",
    "    plt.axis('off')\n",
    "    \n",
    "#plt.savefig('./eval/gdfn_'+current_time+'.png')\n",
    "plt.show()"
   ]
  },
  {
   "cell_type": "code",
   "execution_count": null,
   "metadata": {},
   "outputs": [],
   "source": []
  }
 ],
 "metadata": {
  "kernelspec": {
   "display_name": "tf2gpu",
   "language": "python",
   "name": "tf2gpu"
  },
  "language_info": {
   "codemirror_mode": {
    "name": "ipython",
    "version": 3
   },
   "file_extension": ".py",
   "mimetype": "text/x-python",
   "name": "python",
   "nbconvert_exporter": "python",
   "pygments_lexer": "ipython3",
   "version": "3.7.7"
  },
  "toc": {
   "base_numbering": 1,
   "nav_menu": {},
   "number_sections": true,
   "sideBar": true,
   "skip_h1_title": false,
   "title_cell": "Table of Contents",
   "title_sidebar": "Contents",
   "toc_cell": false,
   "toc_position": {},
   "toc_section_display": true,
   "toc_window_display": false
  }
 },
 "nbformat": 4,
 "nbformat_minor": 2
}
