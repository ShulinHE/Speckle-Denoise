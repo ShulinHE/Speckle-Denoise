{
 "cells": [
  {
   "cell_type": "markdown",
   "metadata": {},
   "source": [
    "# ImageNet"
   ]
  },
  {
   "cell_type": "code",
   "execution_count": null,
   "metadata": {
    "ExecuteTime": {
     "end_time": "2020-05-20T07:41:59.971183Z",
     "start_time": "2020-05-20T07:41:56.037722Z"
    }
   },
   "outputs": [],
   "source": [
    "import cv2\n",
    "import numpy as np\n",
    "import matplotlib.pyplot as plt\n",
    "import os\n",
    "import urllib\n",
    "import sys\n",
    "\n",
    "import skimage.io as io\n",
    "import tensorflow as tf\n",
    "\n",
    "from utils import read_imagenet_data, add_noise, normalize"
   ]
  },
  {
   "cell_type": "code",
   "execution_count": null,
   "metadata": {
    "ExecuteTime": {
     "end_time": "2020-05-12T08:21:46.831954Z",
     "start_time": "2020-05-12T08:21:46.819986Z"
    }
   },
   "outputs": [],
   "source": [
    "# reload(sys)\n",
    "# sys.setdefaultencoding('utf8')\n",
    "\n",
    "def store_raw_images(link, save_path, im_size = (128, 128)):\n",
    "    images_link = link\n",
    "    image_urls = urllib.request.urlopen(images_link).read().decode()\n",
    "    \n",
    "    if not os.path.exists(save_path):\n",
    "        os.makedirs(save_path)\n",
    "\n",
    "    pic_num = 1\n",
    "    for i in image_urls.split('\\n'):\n",
    "        try:\n",
    "            if not os.path.exists(os.path.join(save_path, str(pic_num)+\".jpg\")):\n",
    "                print(pic_num, i)\n",
    "                urllib.request.urlretrieve(i, os.path.join(save_path, str(pic_num)+\".jpg\"))\n",
    "                img = cv2.imread(os.path.join(save_path, str(pic_num)+\".jpg\"), cv2.IMREAD_GRAYSCALE)\n",
    "                # should be larger than samples / pos pic (so we can place our image on it)\n",
    "                resized_image = cv2.resize(img, im_size)\n",
    "                cv2.imwrite(os.path.join(save_path, str(pic_num)+\".jpg\"), resized_image)\n",
    "            pic_num += 1\n",
    "\n",
    "        except Exception as e:\n",
    "                print(str(e))  \n",
    "    print(\"Total\", pic_num, \"images loaded successfully\")"
   ]
  },
  {
   "cell_type": "code",
   "execution_count": null,
   "metadata": {
    "ExecuteTime": {
     "start_time": "2020-05-12T08:19:56.362Z"
    }
   },
   "outputs": [],
   "source": [
    "link = r'http://image-net.org/api/text/imagenet.synset.geturls?wnid=n01317541'\n",
    "save_path = r'./images/animals'\n",
    "store_raw_images(link, save_path)"
   ]
  },
  {
   "cell_type": "code",
   "execution_count": null,
   "metadata": {
    "ExecuteTime": {
     "end_time": "2020-05-12T08:29:05.863516Z",
     "start_time": "2020-05-12T08:21:59.491114Z"
    }
   },
   "outputs": [],
   "source": [
    "link = r'http://image-net.org/api/text/imagenet.synset.geturls?wnid=n00017222'\n",
    "save_path = r'./images/plants'\n",
    "store_raw_images(link, save_path)"
   ]
  },
  {
   "cell_type": "code",
   "execution_count": null,
   "metadata": {
    "ExecuteTime": {
     "end_time": "2020-05-12T08:58:47.736586Z",
     "start_time": "2020-05-12T08:33:02.259829Z"
    }
   },
   "outputs": [],
   "source": [
    "link = r'http://image-net.org/api/text/imagenet.synset.geturls?wnid=n00021939'\n",
    "save_path = r'./images/artifacts'\n",
    "store_raw_images(link, save_path)"
   ]
  },
  {
   "cell_type": "code",
   "execution_count": null,
   "metadata": {
    "ExecuteTime": {
     "end_time": "2020-05-20T07:42:15.525429Z",
     "start_time": "2020-05-20T07:42:13.523783Z"
    }
   },
   "outputs": [],
   "source": [
    "root_path = r'../images'\n",
    "ims = read_imagenet_data(root_path)\n",
    "ims = normalize(ims[:,:,:,np.newaxis])\n",
    "print(ims.shape, ims.dtype, ims.max(), ims.min())"
   ]
  },
  {
   "cell_type": "code",
   "execution_count": null,
   "metadata": {
    "ExecuteTime": {
     "end_time": "2020-05-20T07:44:00.381264Z",
     "start_time": "2020-05-20T07:43:58.704749Z"
    }
   },
   "outputs": [],
   "source": [
    "ims_noise = add_noise(ims, mean=0, var=1e-3, n_type='gaussian')\n",
    "#ims_noise = normalize(ims_noise)\n",
    "print(ims_noise.shape, ims_noise.dtype, ims_noise.max(), ims_noise.min())"
   ]
  },
  {
   "cell_type": "code",
   "execution_count": null,
   "metadata": {
    "ExecuteTime": {
     "end_time": "2020-05-20T07:44:00.945754Z",
     "start_time": "2020-05-20T07:44:00.383272Z"
    }
   },
   "outputs": [],
   "source": [
    "def error(x1, x2, mode='mse'):\n",
    "    if mode == 'mse':\n",
    "        return np.mean(np.square(x1-x2))\n",
    "    elif mode == 'mae':\n",
    "        return np.mean(np.abs(x1-x2))\n",
    "    return\n",
    "\n",
    "def psnr(x1, x2):\n",
    "    return tf.reduce_mean(tf.image.psnr(x1, x2, max_val=1)).numpy()\n",
    "\n",
    "print(error(ims_noise, ims, 'mae'))\n",
    "print(error(ims_noise, ims, 'mse'))\n",
    "print(psnr(ims_noise, ims))"
   ]
  },
  {
   "cell_type": "code",
   "execution_count": null,
   "metadata": {
    "ExecuteTime": {
     "end_time": "2020-05-20T07:44:01.234980Z",
     "start_time": "2020-05-20T07:44:00.946751Z"
    }
   },
   "outputs": [],
   "source": [
    "if __name__ == '__main__':\n",
    "    N_show = 3\n",
    "\n",
    "    plt.figure(figsize = (10*2,5*N_show))\n",
    "    for i in range(N_show):\n",
    "        plt.subplot(N_show,2,2*i+1)\n",
    "        plt.imshow(ims[i].squeeze(),cmap='gray')\n",
    "        plt.axis('off')\n",
    "\n",
    "        plt.subplot(N_show,2,2*i+2)\n",
    "        plt.imshow(ims_noise[i].squeeze(),cmap='gray')\n",
    "        plt.axis('off')\n",
    "    plt.show()"
   ]
  },
  {
   "cell_type": "markdown",
   "metadata": {},
   "source": [
    "# DnCNN data"
   ]
  }
 ],
 "metadata": {
  "kernelspec": {
   "display_name": "Python 3",
   "language": "python",
   "name": "python3"
  },
  "language_info": {
   "codemirror_mode": {
    "name": "ipython",
    "version": 3
   },
   "file_extension": ".py",
   "mimetype": "text/x-python",
   "name": "python",
   "nbconvert_exporter": "python",
   "pygments_lexer": "ipython3",
   "version": "3.7.6"
  },
  "toc": {
   "base_numbering": 1,
   "nav_menu": {},
   "number_sections": true,
   "sideBar": true,
   "skip_h1_title": false,
   "title_cell": "Table of Contents",
   "title_sidebar": "Contents",
   "toc_cell": false,
   "toc_position": {},
   "toc_section_display": true,
   "toc_window_display": false
  }
 },
 "nbformat": 4,
 "nbformat_minor": 2
}
