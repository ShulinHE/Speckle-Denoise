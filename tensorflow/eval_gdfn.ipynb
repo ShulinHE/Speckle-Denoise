{
 "cells": [
  {
   "cell_type": "code",
   "execution_count": null,
   "metadata": {
    "ExecuteTime": {
     "end_time": "2020-06-03T14:54:01.757258Z",
     "start_time": "2020-06-03T14:53:56.223999Z"
    }
   },
   "outputs": [],
   "source": [
    "import numpy as np\n",
    "import matplotlib.pyplot as plt\n",
    "import datetime\n",
    "from sklearn.model_selection import train_test_split\n",
    "\n",
    "import tensorflow as tf\n",
    "from tensorflow import keras\n",
    "\n",
    "from data import read_data\n",
    "from utils import add_noise_est, normalize, add_noise, squeeze_patches\n",
    "\n",
    "#from model_global_dfn import GDFN\n",
    "from model_baseline import Unet\n",
    "from model_mwcnn import MWCNN\n",
    "from model_mwkpn import MWKPN\n",
    "from model_kpn import KPN, LossFunc, LossBasic\n",
    "\n",
    "gpu_ok = tf.test.is_gpu_available()\n",
    "print(\"tf version:\", tf.__version__)\n",
    "print(\"use GPU:\", gpu_ok)"
   ]
  },
  {
   "cell_type": "raw",
   "metadata": {
    "ExecuteTime": {
     "end_time": "2020-06-03T14:54:01.925802Z",
     "start_time": "2020-06-03T14:54:01.758241Z"
    }
   },
   "source": [
    "# 避免显卡显存小而报错，显存自适应分配\n",
    "physical_devices=tf.config.experimental.list_physical_devices(\"GPU\")\n",
    "tf.config.experimental.set_memory_growth(physical_devices[0],True)"
   ]
  },
  {
   "cell_type": "code",
   "execution_count": null,
   "metadata": {
    "ExecuteTime": {
     "end_time": "2020-06-03T14:54:04.586380Z",
     "start_time": "2020-06-03T14:54:04.422818Z"
    }
   },
   "outputs": [],
   "source": [
    "'''Préparation des données'''\n",
    "ims, ims_noise = read_data('imagenet')\n",
    "\n",
    "N_ims, h, w, color = ims.shape\n",
    "ims = ims[:N_ims].astype(np.float32)\n",
    "ims_noise = ims_noise[:N_ims].astype(np.float32)"
   ]
  },
  {
   "cell_type": "code",
   "execution_count": null,
   "metadata": {
    "ExecuteTime": {
     "end_time": "2020-06-03T14:54:05.369537Z",
     "start_time": "2020-06-03T14:54:05.165085Z"
    }
   },
   "outputs": [],
   "source": [
    "# train test split\n",
    "test_size = 0.1\n",
    "\n",
    "train_X, train_Y = ims_noise, ims\n",
    "train_X, test_X, train_Y, test_Y = train_test_split(train_X, train_Y, test_size=test_size, random_state=42)\n",
    "\n",
    "#train_X = train_X[:,np.newaxis,...]\n",
    "#test_X = test_X[:,np.newaxis,...]\n",
    "\n",
    "print('Training X: ', train_X.shape, train_X.dtype, train_X.max(), train_X.min())\n",
    "print('Training Y: ', train_Y.shape, train_Y.dtype, train_Y.max(), train_Y.min())\n",
    "print('Testing X: ', test_X.shape, test_X.dtype, test_X.max(), test_X.min())\n",
    "print('Testing Y: ', test_Y.shape, test_Y.dtype, test_Y.max(), test_Y.min())"
   ]
  },
  {
   "cell_type": "code",
   "execution_count": null,
   "metadata": {
    "ExecuteTime": {
     "end_time": "2020-06-03T14:54:06.052069Z",
     "start_time": "2020-06-03T14:54:06.044090Z"
    }
   },
   "outputs": [],
   "source": [
    "# Use tf.data API to shuffle and batch data.\n",
    "batch_size = 16\n",
    "\n",
    "train_dataset = tf.data.Dataset.from_tensor_slices((train_X,train_Y))\n",
    "train_dataset = train_dataset.repeat().shuffle(5000).batch(batch_size).prefetch(1)\n",
    "\n",
    "test_dataset = tf.data.Dataset.from_tensor_slices((test_X,test_Y))\n",
    "test_dataset = test_dataset.batch(batch_size).prefetch(1)"
   ]
  },
  {
   "cell_type": "code",
   "execution_count": null,
   "metadata": {
    "ExecuteTime": {
     "end_time": "2020-06-03T14:54:58.501310Z",
     "start_time": "2020-06-03T14:54:58.352707Z"
    }
   },
   "outputs": [],
   "source": [
    "#model = KPN(color=False, burst_length=1, blind_est=True, sep_conv=False, kernel_size=[3,5,7],\n",
    "#            channel_att=False, spatial_att=True, core_bias=True, use_bias=True)\n",
    "#model = GDFN(color=False, num_filters=5, channel_att=False, spatial_att=True)\n",
    "\n",
    "\n",
    "load_model = True\n",
    "if load_model:\n",
    "    model.load_weights(filepath=\"model_weights/global_dfn.ckpt\")"
   ]
  },
  {
   "cell_type": "markdown",
   "metadata": {},
   "source": [
    "# Analyse des filtres dynamiques globaux - ImageNet"
   ]
  },
  {
   "cell_type": "code",
   "execution_count": null,
   "metadata": {
    "ExecuteTime": {
     "end_time": "2020-06-03T14:55:07.468626Z",
     "start_time": "2020-06-03T14:55:07.463640Z"
    }
   },
   "outputs": [],
   "source": [
    "color = 1 if color == False else 3\n",
    "\n",
    "current_time = datetime.datetime.now().strftime(\"%Y%m%d-%H%M%S\")"
   ]
  },
  {
   "cell_type": "code",
   "execution_count": null,
   "metadata": {
    "ExecuteTime": {
     "end_time": "2020-06-03T14:55:11.380711Z",
     "start_time": "2020-06-03T14:55:09.743091Z"
    }
   },
   "outputs": [],
   "source": [
    "for test_X, test_Y in test_dataset.take(1):\n",
    "    #pred_Y,core = model(test_X, test_X)\n",
    "    pred_Y, core = model(test_X)\n",
    "\n",
    "print(core.shape)"
   ]
  },
  {
   "cell_type": "code",
   "execution_count": null,
   "metadata": {
    "ExecuteTime": {
     "end_time": "2020-06-03T14:56:28.939348Z",
     "start_time": "2020-06-03T14:56:28.768786Z"
    }
   },
   "outputs": [],
   "source": [
    "plt.figure(figsize = (15,5*num_filters))\n",
    "for i in range(num_filters):\n",
    "    cur_core = core[:,:,:,i*color**2:(i+1)*color**2]\n",
    "    cur_core = tf.reduce_mean(cur_core, axis=0, keepdims=False)\n",
    "    \n",
    "    plt.subplot(num_filters,1,i+1)\n",
    "    plt.imshow(cur_core.numpy().squeeze(), cmap='gray')\n",
    "    plt.axis('off')\n",
    "    \n",
    "#plt.savefig('./eval/gdfn_'+current_time+'.png')\n",
    "plt.show()"
   ]
  }
 ],
 "metadata": {
  "kernelspec": {
   "display_name": "tf2gpu",
   "language": "python",
   "name": "tf2gpu"
  },
  "language_info": {
   "codemirror_mode": {
    "name": "ipython",
    "version": 3
   },
   "file_extension": ".py",
   "mimetype": "text/x-python",
   "name": "python",
   "nbconvert_exporter": "python",
   "pygments_lexer": "ipython3",
   "version": "3.7.7"
  },
  "toc": {
   "base_numbering": 1,
   "nav_menu": {},
   "number_sections": true,
   "sideBar": true,
   "skip_h1_title": false,
   "title_cell": "Table of Contents",
   "title_sidebar": "Contents",
   "toc_cell": false,
   "toc_position": {},
   "toc_section_display": true,
   "toc_window_display": false
  }
 },
 "nbformat": 4,
 "nbformat_minor": 2
}
